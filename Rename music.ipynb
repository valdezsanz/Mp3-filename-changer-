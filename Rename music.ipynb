{
 "cells": [
  {
   "cell_type": "markdown",
   "id": "8e00f0ed-c61d-4b4e-a5d1-3b77006ed6f3",
   "metadata": {},
   "source": [
    "## Replacing _ with spaces in all the folders, and then all the files of those folders"
   ]
  },
  {
   "cell_type": "code",
   "execution_count": 38,
   "id": "ac3ee4e4-f1d3-45b6-8d0d-9c45ef3519be",
   "metadata": {},
   "outputs": [],
   "source": [
    "import os"
   ]
  },
  {
   "cell_type": "markdown",
   "id": "411f5c50-51d1-4321-aabe-6d398d64faad",
   "metadata": {},
   "source": [
    "## Renaming Folders:"
   ]
  },
  {
   "cell_type": "code",
   "execution_count": 57,
   "id": "74ec61bd-db53-4e1c-bf34-300b41c15104",
   "metadata": {},
   "outputs": [],
   "source": [
    "folder_dir=r'F:\\\\'"
   ]
  },
  {
   "cell_type": "code",
   "execution_count": 58,
   "id": "35bc1977-47ef-4461-88ca-38e102646dea",
   "metadata": {},
   "outputs": [],
   "source": [
    "folder_path=os.listdir(folder_dir)"
   ]
  },
  {
   "cell_type": "code",
   "execution_count": 59,
   "id": "2e0ddc2c-8af9-4f83-84e7-3d33fa942c16",
   "metadata": {},
   "outputs": [
    {
     "data": {
      "text/plain": [
       "['System Volume Information',\n",
       " 'Clasicos Argentinos',\n",
       " 'Red Hot Chili Peppers The Essentials',\n",
       " 'Para despertar',\n",
       " 'indie',\n",
       " 'Favoritas',\n",
       " 'This Is Paramore',\n",
       " 'Eighties',\n",
       " 'Foo Fighters Radio',\n",
       " 'Bati']"
      ]
     },
     "execution_count": 59,
     "metadata": {},
     "output_type": "execute_result"
    }
   ],
   "source": [
    "# Replace _ for space in all folders inside folder_dir\n",
    "for folder in folder_path:\n",
    "    folder_old=folder_dir+'\\\\'+folder\n",
    "    new_name=folder.replace('_',' ')\n",
    "    folder_new=folder_dir+'\\\\'+new_name\n",
    "    os.rename(folder_old,folder_new)\n",
    "os.listdir(folder_dir)\n",
    "    "
   ]
  },
  {
   "cell_type": "markdown",
   "id": "d21afa20-ae08-460a-b445-1b21c4049db8",
   "metadata": {},
   "source": [
    "## Renaming Files: "
   ]
  },
  {
   "cell_type": "code",
   "execution_count": 60,
   "id": "695c8c80-adea-4dec-bdb4-b48f1f4606ad",
   "metadata": {},
   "outputs": [],
   "source": [
    "from tinytag import TinyTag"
   ]
  },
  {
   "cell_type": "code",
   "execution_count": 63,
   "id": "8f11018a-96bd-4f25-abb5-9d2c5d385f80",
   "metadata": {
    "tags": []
   },
   "outputs": [
    {
     "data": {
      "text/plain": [
       "['System Volume Information',\n",
       " 'Clasicos Argentinos',\n",
       " 'Red Hot Chili Peppers The Essentials',\n",
       " 'Para despertar',\n",
       " 'indie',\n",
       " 'Favoritas',\n",
       " 'This Is Paramore',\n",
       " 'Eighties',\n",
       " 'Foo Fighters Radio',\n",
       " 'Bati']"
      ]
     },
     "execution_count": 63,
     "metadata": {},
     "output_type": "execute_result"
    }
   ],
   "source": [
    "# Loop through folder names in the playlist Folder \n",
    "folder_path=os.listdir(folder_dir)\n",
    "for folder in folder_path:\n",
    "    if folder=='System Volume Information':\n",
    "        continue\n",
    "    file_dir=folder_dir+'\\\\'+folder\n",
    "    file_path=os.listdir(file_dir)\n",
    "    #Loop through file names and rename\n",
    "    for file in file_path:\n",
    "        file_old=file_dir+'\\\\'+file\n",
    "        tag = TinyTag.get(file_old)\n",
    "        new_name=tag.title+' - '+tag.artist+'.mp3'\n",
    "        for word,replacement in dic.items():\n",
    "            new_name=new_name.replace(word,replacement)\n",
    "        \n",
    "        file_new=file_dir+'\\\\'+new_name\n",
    "        os.rename(file_old,file_new)\n",
    "os.listdir(folder_dir)"
   ]
  },
  {
   "cell_type": "code",
   "execution_count": 84,
   "id": "58476690-94a4-4b91-9ab9-f0574fa59721",
   "metadata": {},
   "outputs": [
    {
     "name": "stdout",
     "output_type": "stream",
     "text": [
      "This track is by Bandalos Chinos.\n",
      "This track is named Isla.\n"
     ]
    }
   ],
   "source": [
    "from tinytag import TinyTag\n",
    "tag = TinyTag.get('E:\\Ordenado\\Musica Spotify\\SpotiFlyer\\Playlists\\Bati\\Isla.mp3')\n",
    "print('This track is by %s.' % tag.artist)\n",
    "print('This track is named %s.' % tag.title)"
   ]
  },
  {
   "cell_type": "markdown",
   "id": "8509b2a5-3ef9-44aa-a61b-0096a694c600",
   "metadata": {},
   "source": [
    "## Removing accents "
   ]
  },
  {
   "cell_type": "code",
   "execution_count": 5,
   "id": "c749261b-f64e-4067-9111-fdb2f40c97d3",
   "metadata": {},
   "outputs": [
    {
     "name": "stdout",
     "output_type": "stream",
     "text": [
      "aeeohello\n"
     ]
    }
   ],
   "source": [
    "import unicodedata\n",
    "\n",
    "def strip_accents(text):\n",
    "    try:\n",
    "        text = unicode(text, 'utf-8')\n",
    "    except NameError: # unicode is a default on python 3 \n",
    "        pass\n",
    "\n",
    "    text = unicodedata.normalize('NFD', text)\\\n",
    "           .encode('ascii', 'ignore')\\\n",
    "           .decode(\"utf-8\")\n",
    "\n",
    "    return str(text)\n",
    "\n",
    "s = strip_accents('àéêöhello')\n",
    "\n",
    "print (s)"
   ]
  },
  {
   "cell_type": "code",
   "execution_count": 52,
   "id": "7a0ac88e-108a-4718-8016-dbc382a0bc96",
   "metadata": {},
   "outputs": [],
   "source": [
    "#dict\n",
    "dic={ '<':' ',\n",
    "      '>': ' ',\n",
    "      ':':' ',\n",
    "      '\"':' ', \n",
    "      '/':' ', \n",
    "      '\\\\':' ', \n",
    "      '|':' ', \n",
    "      '?':' ', \n",
    "      '*':' ' }"
   ]
  },
  {
   "cell_type": "code",
   "execution_count": null,
   "id": "274cd610-9e65-401a-b61f-3d232587471d",
   "metadata": {},
   "outputs": [],
   "source": [
    "for word,replacement in dic.items():\n",
    "    strValue=strValue.replace(word,replacement)"
   ]
  }
 ],
 "metadata": {
  "kernelspec": {
   "display_name": "Python 3 (ipykernel)",
   "language": "python",
   "name": "python3"
  },
  "language_info": {
   "codemirror_mode": {
    "name": "ipython",
    "version": 3
   },
   "file_extension": ".py",
   "mimetype": "text/x-python",
   "name": "python",
   "nbconvert_exporter": "python",
   "pygments_lexer": "ipython3",
   "version": "3.9.13"
  }
 },
 "nbformat": 4,
 "nbformat_minor": 5
}
